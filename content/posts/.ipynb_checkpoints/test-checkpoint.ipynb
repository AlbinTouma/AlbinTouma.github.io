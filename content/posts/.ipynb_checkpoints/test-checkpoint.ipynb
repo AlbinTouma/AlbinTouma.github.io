{
 "cells": [
  {
   "cell_type": "markdown",
   "id": "5a7058d2-87c4-40d4-9533-f7bdb71156fb",
   "metadata": {},
   "source": [
    "---\n",
    "title: hello\n",
    "draft: false\n",
    "---"
   ]
  },
  {
   "cell_type": "markdown",
   "id": "eacd307a-5054-4c95-ae2d-b2b4c2da8200",
   "metadata": {},
   "source": [
    "# Testing ipynb to md"
   ]
  },
  {
   "cell_type": "code",
   "execution_count": 1,
   "id": "5f207264-b74b-4560-9a55-bc738645398c",
   "metadata": {},
   "outputs": [
    {
     "name": "stdout",
     "output_type": "stream",
     "text": [
      "2\n"
     ]
    }
   ],
   "source": [
    "x = 2\n",
    "print(x)"
   ]
  },
  {
   "cell_type": "code",
   "execution_count": 18,
   "id": "880fa384-61be-44ea-8fed-e7d363642720",
   "metadata": {},
   "outputs": [
    {
     "data": {
      "text/plain": [
       "array([45, 48, 65, 68, 68, 10, 84, 22, 37, 88])"
      ]
     },
     "execution_count": 18,
     "metadata": {},
     "output_type": "execute_result"
    }
   ],
   "source": [
    "import numpy as np\n",
    "\n",
    "\n",
    "num_bars = 10\n",
    "x = np.random.seed(0)\n",
    "v = np.random.randint(1, 100, size=num_bars)\n",
    "labels = [f'Label {i}' for i in range(num_bars)]\n",
    "\n",
    "v\n"
   ]
  }
 ],
 "metadata": {
  "jupytext": {
   "formats": "ipynb,md"
  },
  "kernelspec": {
   "display_name": "Python 3 (ipykernel)",
   "language": "python",
   "name": "python3"
  },
  "language_info": {
   "codemirror_mode": {
    "name": "ipython",
    "version": 3
   },
   "file_extension": ".py",
   "mimetype": "text/x-python",
   "name": "python",
   "nbconvert_exporter": "python",
   "pygments_lexer": "ipython3",
   "version": "3.10.12"
  }
 },
 "nbformat": 4,
 "nbformat_minor": 5
}
